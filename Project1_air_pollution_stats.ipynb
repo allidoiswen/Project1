{
 "cells": [
  {
   "cell_type": "code",
   "execution_count": 4,
   "metadata": {},
   "outputs": [],
   "source": [
    "# import modules\n",
    "import os\n",
    "import pandas as pd\n",
    "import numpy as np\n",
    "import matplotlib.pyplot as plt\n",
    "\n",
    "from scipy import stats\n",
    "from scipy.stats import linregress"
   ]
  },
  {
   "cell_type": "code",
   "execution_count": 5,
   "metadata": {},
   "outputs": [],
   "source": [
    "# Import Data (Smaller test data to start with)\n",
    "#file_path = os.path.join('data-society-us-air-pollution-data', 'uspollution', 'pollution_us_2000_2016.csv')\n",
    "raw_data = pd.read_csv(\"pollution_us_2000_2016.csv\")"
   ]
  },
  {
   "cell_type": "code",
   "execution_count": 6,
   "metadata": {},
   "outputs": [
    {
     "name": "stdout",
     "output_type": "stream",
     "text": [
      "<class 'pandas.core.frame.DataFrame'>\n",
      "RangeIndex: 1746661 entries, 0 to 1746660\n",
      "Data columns (total 29 columns):\n",
      " #   Column             Dtype  \n",
      "---  ------             -----  \n",
      " 0   Unnamed: 0         int64  \n",
      " 1   State Code         int64  \n",
      " 2   County Code        int64  \n",
      " 3   Site Num           int64  \n",
      " 4   Address            object \n",
      " 5   State              object \n",
      " 6   County             object \n",
      " 7   City               object \n",
      " 8   Date Local         object \n",
      " 9   NO2 Units          object \n",
      " 10  NO2 Mean           float64\n",
      " 11  NO2 1st Max Value  float64\n",
      " 12  NO2 1st Max Hour   int64  \n",
      " 13  NO2 AQI            int64  \n",
      " 14  O3 Units           object \n",
      " 15  O3 Mean            float64\n",
      " 16  O3 1st Max Value   float64\n",
      " 17  O3 1st Max Hour    int64  \n",
      " 18  O3 AQI             int64  \n",
      " 19  SO2 Units          object \n",
      " 20  SO2 Mean           float64\n",
      " 21  SO2 1st Max Value  float64\n",
      " 22  SO2 1st Max Hour   int64  \n",
      " 23  SO2 AQI            float64\n",
      " 24  CO Units           object \n",
      " 25  CO Mean            float64\n",
      " 26  CO 1st Max Value   float64\n",
      " 27  CO 1st Max Hour    int64  \n",
      " 28  CO AQI             float64\n",
      "dtypes: float64(10), int64(10), object(9)\n",
      "memory usage: 386.5+ MB\n"
     ]
    }
   ],
   "source": [
    "# DataFrame info\n",
    "raw_data.info()"
   ]
  },
  {
   "cell_type": "code",
   "execution_count": 7,
   "metadata": {},
   "outputs": [
    {
     "name": "stdout",
     "output_type": "stream",
     "text": [
      "State\n"
     ]
    },
    {
     "data": {
      "text/html": [
       "<div>\n",
       "<style scoped>\n",
       "    .dataframe tbody tr th:only-of-type {\n",
       "        vertical-align: middle;\n",
       "    }\n",
       "\n",
       "    .dataframe tbody tr th {\n",
       "        vertical-align: top;\n",
       "    }\n",
       "\n",
       "    .dataframe thead th {\n",
       "        text-align: right;\n",
       "    }\n",
       "</style>\n",
       "<table border=\"1\" class=\"dataframe\">\n",
       "  <thead>\n",
       "    <tr style=\"text-align: right;\">\n",
       "      <th></th>\n",
       "      <th>State</th>\n",
       "      <th>Date Local</th>\n",
       "      <th>NO2 Mean</th>\n",
       "      <th>NO2 1st Max Value</th>\n",
       "      <th>O3 Mean</th>\n",
       "      <th>O3 1st Max Value</th>\n",
       "      <th>SO2 Mean</th>\n",
       "      <th>SO2 1st Max Value</th>\n",
       "      <th>CO Mean</th>\n",
       "      <th>CO 1st Max Value</th>\n",
       "    </tr>\n",
       "  </thead>\n",
       "  <tbody>\n",
       "  </tbody>\n",
       "</table>\n",
       "</div>"
      ],
      "text/plain": [
       "Empty DataFrame\n",
       "Columns: [State, Date Local, NO2 Mean, NO2 1st Max Value, O3 Mean, O3 1st Max Value, SO2 Mean, SO2 1st Max Value, CO Mean, CO 1st Max Value]\n",
       "Index: []"
      ]
     },
     "metadata": {},
     "output_type": "display_data"
    },
    {
     "name": "stdout",
     "output_type": "stream",
     "text": [
      "Date Local\n"
     ]
    },
    {
     "data": {
      "text/html": [
       "<div>\n",
       "<style scoped>\n",
       "    .dataframe tbody tr th:only-of-type {\n",
       "        vertical-align: middle;\n",
       "    }\n",
       "\n",
       "    .dataframe tbody tr th {\n",
       "        vertical-align: top;\n",
       "    }\n",
       "\n",
       "    .dataframe thead th {\n",
       "        text-align: right;\n",
       "    }\n",
       "</style>\n",
       "<table border=\"1\" class=\"dataframe\">\n",
       "  <thead>\n",
       "    <tr style=\"text-align: right;\">\n",
       "      <th></th>\n",
       "      <th>State</th>\n",
       "      <th>Date Local</th>\n",
       "      <th>NO2 Mean</th>\n",
       "      <th>NO2 1st Max Value</th>\n",
       "      <th>O3 Mean</th>\n",
       "      <th>O3 1st Max Value</th>\n",
       "      <th>SO2 Mean</th>\n",
       "      <th>SO2 1st Max Value</th>\n",
       "      <th>CO Mean</th>\n",
       "      <th>CO 1st Max Value</th>\n",
       "    </tr>\n",
       "  </thead>\n",
       "  <tbody>\n",
       "  </tbody>\n",
       "</table>\n",
       "</div>"
      ],
      "text/plain": [
       "Empty DataFrame\n",
       "Columns: [State, Date Local, NO2 Mean, NO2 1st Max Value, O3 Mean, O3 1st Max Value, SO2 Mean, SO2 1st Max Value, CO Mean, CO 1st Max Value]\n",
       "Index: []"
      ]
     },
     "metadata": {},
     "output_type": "display_data"
    },
    {
     "name": "stdout",
     "output_type": "stream",
     "text": [
      "NO2 Mean\n"
     ]
    },
    {
     "data": {
      "text/html": [
       "<div>\n",
       "<style scoped>\n",
       "    .dataframe tbody tr th:only-of-type {\n",
       "        vertical-align: middle;\n",
       "    }\n",
       "\n",
       "    .dataframe tbody tr th {\n",
       "        vertical-align: top;\n",
       "    }\n",
       "\n",
       "    .dataframe thead th {\n",
       "        text-align: right;\n",
       "    }\n",
       "</style>\n",
       "<table border=\"1\" class=\"dataframe\">\n",
       "  <thead>\n",
       "    <tr style=\"text-align: right;\">\n",
       "      <th></th>\n",
       "      <th>State</th>\n",
       "      <th>Date Local</th>\n",
       "      <th>NO2 Mean</th>\n",
       "      <th>NO2 1st Max Value</th>\n",
       "      <th>O3 Mean</th>\n",
       "      <th>O3 1st Max Value</th>\n",
       "      <th>SO2 Mean</th>\n",
       "      <th>SO2 1st Max Value</th>\n",
       "      <th>CO Mean</th>\n",
       "      <th>CO 1st Max Value</th>\n",
       "    </tr>\n",
       "  </thead>\n",
       "  <tbody>\n",
       "  </tbody>\n",
       "</table>\n",
       "</div>"
      ],
      "text/plain": [
       "Empty DataFrame\n",
       "Columns: [State, Date Local, NO2 Mean, NO2 1st Max Value, O3 Mean, O3 1st Max Value, SO2 Mean, SO2 1st Max Value, CO Mean, CO 1st Max Value]\n",
       "Index: []"
      ]
     },
     "metadata": {},
     "output_type": "display_data"
    },
    {
     "name": "stdout",
     "output_type": "stream",
     "text": [
      "NO2 1st Max Value\n"
     ]
    },
    {
     "data": {
      "text/html": [
       "<div>\n",
       "<style scoped>\n",
       "    .dataframe tbody tr th:only-of-type {\n",
       "        vertical-align: middle;\n",
       "    }\n",
       "\n",
       "    .dataframe tbody tr th {\n",
       "        vertical-align: top;\n",
       "    }\n",
       "\n",
       "    .dataframe thead th {\n",
       "        text-align: right;\n",
       "    }\n",
       "</style>\n",
       "<table border=\"1\" class=\"dataframe\">\n",
       "  <thead>\n",
       "    <tr style=\"text-align: right;\">\n",
       "      <th></th>\n",
       "      <th>State</th>\n",
       "      <th>Date Local</th>\n",
       "      <th>NO2 Mean</th>\n",
       "      <th>NO2 1st Max Value</th>\n",
       "      <th>O3 Mean</th>\n",
       "      <th>O3 1st Max Value</th>\n",
       "      <th>SO2 Mean</th>\n",
       "      <th>SO2 1st Max Value</th>\n",
       "      <th>CO Mean</th>\n",
       "      <th>CO 1st Max Value</th>\n",
       "    </tr>\n",
       "  </thead>\n",
       "  <tbody>\n",
       "  </tbody>\n",
       "</table>\n",
       "</div>"
      ],
      "text/plain": [
       "Empty DataFrame\n",
       "Columns: [State, Date Local, NO2 Mean, NO2 1st Max Value, O3 Mean, O3 1st Max Value, SO2 Mean, SO2 1st Max Value, CO Mean, CO 1st Max Value]\n",
       "Index: []"
      ]
     },
     "metadata": {},
     "output_type": "display_data"
    },
    {
     "name": "stdout",
     "output_type": "stream",
     "text": [
      "O3 Mean\n"
     ]
    },
    {
     "data": {
      "text/html": [
       "<div>\n",
       "<style scoped>\n",
       "    .dataframe tbody tr th:only-of-type {\n",
       "        vertical-align: middle;\n",
       "    }\n",
       "\n",
       "    .dataframe tbody tr th {\n",
       "        vertical-align: top;\n",
       "    }\n",
       "\n",
       "    .dataframe thead th {\n",
       "        text-align: right;\n",
       "    }\n",
       "</style>\n",
       "<table border=\"1\" class=\"dataframe\">\n",
       "  <thead>\n",
       "    <tr style=\"text-align: right;\">\n",
       "      <th></th>\n",
       "      <th>State</th>\n",
       "      <th>Date Local</th>\n",
       "      <th>NO2 Mean</th>\n",
       "      <th>NO2 1st Max Value</th>\n",
       "      <th>O3 Mean</th>\n",
       "      <th>O3 1st Max Value</th>\n",
       "      <th>SO2 Mean</th>\n",
       "      <th>SO2 1st Max Value</th>\n",
       "      <th>CO Mean</th>\n",
       "      <th>CO 1st Max Value</th>\n",
       "    </tr>\n",
       "  </thead>\n",
       "  <tbody>\n",
       "  </tbody>\n",
       "</table>\n",
       "</div>"
      ],
      "text/plain": [
       "Empty DataFrame\n",
       "Columns: [State, Date Local, NO2 Mean, NO2 1st Max Value, O3 Mean, O3 1st Max Value, SO2 Mean, SO2 1st Max Value, CO Mean, CO 1st Max Value]\n",
       "Index: []"
      ]
     },
     "metadata": {},
     "output_type": "display_data"
    },
    {
     "name": "stdout",
     "output_type": "stream",
     "text": [
      "O3 1st Max Value\n"
     ]
    },
    {
     "data": {
      "text/html": [
       "<div>\n",
       "<style scoped>\n",
       "    .dataframe tbody tr th:only-of-type {\n",
       "        vertical-align: middle;\n",
       "    }\n",
       "\n",
       "    .dataframe tbody tr th {\n",
       "        vertical-align: top;\n",
       "    }\n",
       "\n",
       "    .dataframe thead th {\n",
       "        text-align: right;\n",
       "    }\n",
       "</style>\n",
       "<table border=\"1\" class=\"dataframe\">\n",
       "  <thead>\n",
       "    <tr style=\"text-align: right;\">\n",
       "      <th></th>\n",
       "      <th>State</th>\n",
       "      <th>Date Local</th>\n",
       "      <th>NO2 Mean</th>\n",
       "      <th>NO2 1st Max Value</th>\n",
       "      <th>O3 Mean</th>\n",
       "      <th>O3 1st Max Value</th>\n",
       "      <th>SO2 Mean</th>\n",
       "      <th>SO2 1st Max Value</th>\n",
       "      <th>CO Mean</th>\n",
       "      <th>CO 1st Max Value</th>\n",
       "    </tr>\n",
       "  </thead>\n",
       "  <tbody>\n",
       "  </tbody>\n",
       "</table>\n",
       "</div>"
      ],
      "text/plain": [
       "Empty DataFrame\n",
       "Columns: [State, Date Local, NO2 Mean, NO2 1st Max Value, O3 Mean, O3 1st Max Value, SO2 Mean, SO2 1st Max Value, CO Mean, CO 1st Max Value]\n",
       "Index: []"
      ]
     },
     "metadata": {},
     "output_type": "display_data"
    },
    {
     "name": "stdout",
     "output_type": "stream",
     "text": [
      "SO2 Mean\n"
     ]
    },
    {
     "data": {
      "text/html": [
       "<div>\n",
       "<style scoped>\n",
       "    .dataframe tbody tr th:only-of-type {\n",
       "        vertical-align: middle;\n",
       "    }\n",
       "\n",
       "    .dataframe tbody tr th {\n",
       "        vertical-align: top;\n",
       "    }\n",
       "\n",
       "    .dataframe thead th {\n",
       "        text-align: right;\n",
       "    }\n",
       "</style>\n",
       "<table border=\"1\" class=\"dataframe\">\n",
       "  <thead>\n",
       "    <tr style=\"text-align: right;\">\n",
       "      <th></th>\n",
       "      <th>State</th>\n",
       "      <th>Date Local</th>\n",
       "      <th>NO2 Mean</th>\n",
       "      <th>NO2 1st Max Value</th>\n",
       "      <th>O3 Mean</th>\n",
       "      <th>O3 1st Max Value</th>\n",
       "      <th>SO2 Mean</th>\n",
       "      <th>SO2 1st Max Value</th>\n",
       "      <th>CO Mean</th>\n",
       "      <th>CO 1st Max Value</th>\n",
       "    </tr>\n",
       "  </thead>\n",
       "  <tbody>\n",
       "  </tbody>\n",
       "</table>\n",
       "</div>"
      ],
      "text/plain": [
       "Empty DataFrame\n",
       "Columns: [State, Date Local, NO2 Mean, NO2 1st Max Value, O3 Mean, O3 1st Max Value, SO2 Mean, SO2 1st Max Value, CO Mean, CO 1st Max Value]\n",
       "Index: []"
      ]
     },
     "metadata": {},
     "output_type": "display_data"
    },
    {
     "name": "stdout",
     "output_type": "stream",
     "text": [
      "SO2 1st Max Value\n"
     ]
    },
    {
     "data": {
      "text/html": [
       "<div>\n",
       "<style scoped>\n",
       "    .dataframe tbody tr th:only-of-type {\n",
       "        vertical-align: middle;\n",
       "    }\n",
       "\n",
       "    .dataframe tbody tr th {\n",
       "        vertical-align: top;\n",
       "    }\n",
       "\n",
       "    .dataframe thead th {\n",
       "        text-align: right;\n",
       "    }\n",
       "</style>\n",
       "<table border=\"1\" class=\"dataframe\">\n",
       "  <thead>\n",
       "    <tr style=\"text-align: right;\">\n",
       "      <th></th>\n",
       "      <th>State</th>\n",
       "      <th>Date Local</th>\n",
       "      <th>NO2 Mean</th>\n",
       "      <th>NO2 1st Max Value</th>\n",
       "      <th>O3 Mean</th>\n",
       "      <th>O3 1st Max Value</th>\n",
       "      <th>SO2 Mean</th>\n",
       "      <th>SO2 1st Max Value</th>\n",
       "      <th>CO Mean</th>\n",
       "      <th>CO 1st Max Value</th>\n",
       "    </tr>\n",
       "  </thead>\n",
       "  <tbody>\n",
       "  </tbody>\n",
       "</table>\n",
       "</div>"
      ],
      "text/plain": [
       "Empty DataFrame\n",
       "Columns: [State, Date Local, NO2 Mean, NO2 1st Max Value, O3 Mean, O3 1st Max Value, SO2 Mean, SO2 1st Max Value, CO Mean, CO 1st Max Value]\n",
       "Index: []"
      ]
     },
     "metadata": {},
     "output_type": "display_data"
    },
    {
     "name": "stdout",
     "output_type": "stream",
     "text": [
      "CO Mean\n"
     ]
    },
    {
     "data": {
      "text/html": [
       "<div>\n",
       "<style scoped>\n",
       "    .dataframe tbody tr th:only-of-type {\n",
       "        vertical-align: middle;\n",
       "    }\n",
       "\n",
       "    .dataframe tbody tr th {\n",
       "        vertical-align: top;\n",
       "    }\n",
       "\n",
       "    .dataframe thead th {\n",
       "        text-align: right;\n",
       "    }\n",
       "</style>\n",
       "<table border=\"1\" class=\"dataframe\">\n",
       "  <thead>\n",
       "    <tr style=\"text-align: right;\">\n",
       "      <th></th>\n",
       "      <th>State</th>\n",
       "      <th>Date Local</th>\n",
       "      <th>NO2 Mean</th>\n",
       "      <th>NO2 1st Max Value</th>\n",
       "      <th>O3 Mean</th>\n",
       "      <th>O3 1st Max Value</th>\n",
       "      <th>SO2 Mean</th>\n",
       "      <th>SO2 1st Max Value</th>\n",
       "      <th>CO Mean</th>\n",
       "      <th>CO 1st Max Value</th>\n",
       "    </tr>\n",
       "  </thead>\n",
       "  <tbody>\n",
       "  </tbody>\n",
       "</table>\n",
       "</div>"
      ],
      "text/plain": [
       "Empty DataFrame\n",
       "Columns: [State, Date Local, NO2 Mean, NO2 1st Max Value, O3 Mean, O3 1st Max Value, SO2 Mean, SO2 1st Max Value, CO Mean, CO 1st Max Value]\n",
       "Index: []"
      ]
     },
     "metadata": {},
     "output_type": "display_data"
    },
    {
     "name": "stdout",
     "output_type": "stream",
     "text": [
      "CO 1st Max Value\n"
     ]
    },
    {
     "data": {
      "text/html": [
       "<div>\n",
       "<style scoped>\n",
       "    .dataframe tbody tr th:only-of-type {\n",
       "        vertical-align: middle;\n",
       "    }\n",
       "\n",
       "    .dataframe tbody tr th {\n",
       "        vertical-align: top;\n",
       "    }\n",
       "\n",
       "    .dataframe thead th {\n",
       "        text-align: right;\n",
       "    }\n",
       "</style>\n",
       "<table border=\"1\" class=\"dataframe\">\n",
       "  <thead>\n",
       "    <tr style=\"text-align: right;\">\n",
       "      <th></th>\n",
       "      <th>State</th>\n",
       "      <th>Date Local</th>\n",
       "      <th>NO2 Mean</th>\n",
       "      <th>NO2 1st Max Value</th>\n",
       "      <th>O3 Mean</th>\n",
       "      <th>O3 1st Max Value</th>\n",
       "      <th>SO2 Mean</th>\n",
       "      <th>SO2 1st Max Value</th>\n",
       "      <th>CO Mean</th>\n",
       "      <th>CO 1st Max Value</th>\n",
       "    </tr>\n",
       "  </thead>\n",
       "  <tbody>\n",
       "  </tbody>\n",
       "</table>\n",
       "</div>"
      ],
      "text/plain": [
       "Empty DataFrame\n",
       "Columns: [State, Date Local, NO2 Mean, NO2 1st Max Value, O3 Mean, O3 1st Max Value, SO2 Mean, SO2 1st Max Value, CO Mean, CO 1st Max Value]\n",
       "Index: []"
      ]
     },
     "metadata": {},
     "output_type": "display_data"
    }
   ],
   "source": [
    "# Data cleaning (any zeros or NaN)\n",
    "col_list = ['State', 'Date Local', 'NO2 Mean', 'NO2 1st Max Value', 'O3 Mean', 'O3 1st Max Value', 'SO2 Mean', 'SO2 1st Max Value', 'CO Mean',  'CO 1st Max Value']\n",
    "\n",
    "trim_data = raw_data[col_list]\n",
    "\n",
    "# Find any NaN\n",
    "for col in col_list:\n",
    "    print(col)\n",
    "    display(trim_data.loc[trim_data[col].isna()])\n",
    "    \n",
    "# Drop Country of Mexico\n",
    "trim_data = trim_data.loc[trim_data['State'] != 'Country Of Mexico']\n"
   ]
  },
  {
   "cell_type": "code",
   "execution_count": 8,
   "metadata": {},
   "outputs": [],
   "source": [
    "# Create Tidy Dataset \n",
    "tidy_data = trim_data.copy()\n",
    "\n",
    "# Add Year Column\n",
    "tidy_data['year'] = tidy_data['Date Local'].str[:4]\n",
    "\n",
    "# Drop 2016 Data due to partial year\n",
    "tidy_data = tidy_data.loc[tidy_data['year'] != '2016']\n",
    "\n",
    "# Save Tidy Data\n",
    "# tidy_data.to_csv('air_pollution_tidy.csv', index = False)\n"
   ]
  },
  {
   "cell_type": "code",
   "execution_count": 9,
   "metadata": {},
   "outputs": [
    {
     "data": {
      "text/html": [
       "<div>\n",
       "<style scoped>\n",
       "    .dataframe tbody tr th:only-of-type {\n",
       "        vertical-align: middle;\n",
       "    }\n",
       "\n",
       "    .dataframe tbody tr th {\n",
       "        vertical-align: top;\n",
       "    }\n",
       "\n",
       "    .dataframe thead th {\n",
       "        text-align: right;\n",
       "    }\n",
       "</style>\n",
       "<table border=\"1\" class=\"dataframe\">\n",
       "  <thead>\n",
       "    <tr style=\"text-align: right;\">\n",
       "      <th></th>\n",
       "      <th>State</th>\n",
       "      <th>Date Local</th>\n",
       "      <th>NO2 Mean</th>\n",
       "      <th>NO2 1st Max Value</th>\n",
       "      <th>O3 Mean</th>\n",
       "      <th>O3 1st Max Value</th>\n",
       "      <th>SO2 Mean</th>\n",
       "      <th>SO2 1st Max Value</th>\n",
       "      <th>CO Mean</th>\n",
       "      <th>CO 1st Max Value</th>\n",
       "      <th>year</th>\n",
       "    </tr>\n",
       "  </thead>\n",
       "  <tbody>\n",
       "    <tr>\n",
       "      <th>1722052</th>\n",
       "      <td>Wyoming</td>\n",
       "      <td>2015-12-30</td>\n",
       "      <td>7.047826</td>\n",
       "      <td>18.8</td>\n",
       "      <td>0.036917</td>\n",
       "      <td>0.043</td>\n",
       "      <td>-0.057143</td>\n",
       "      <td>0.2</td>\n",
       "      <td>0.154167</td>\n",
       "      <td>0.200</td>\n",
       "      <td>2015</td>\n",
       "    </tr>\n",
       "    <tr>\n",
       "      <th>1722053</th>\n",
       "      <td>Wyoming</td>\n",
       "      <td>2015-12-31</td>\n",
       "      <td>2.445833</td>\n",
       "      <td>8.8</td>\n",
       "      <td>0.038263</td>\n",
       "      <td>0.040</td>\n",
       "      <td>-0.187500</td>\n",
       "      <td>-0.1</td>\n",
       "      <td>0.103458</td>\n",
       "      <td>0.155</td>\n",
       "      <td>2015</td>\n",
       "    </tr>\n",
       "    <tr>\n",
       "      <th>1722054</th>\n",
       "      <td>Wyoming</td>\n",
       "      <td>2015-12-31</td>\n",
       "      <td>2.445833</td>\n",
       "      <td>8.8</td>\n",
       "      <td>0.038263</td>\n",
       "      <td>0.040</td>\n",
       "      <td>-0.187500</td>\n",
       "      <td>-0.1</td>\n",
       "      <td>0.100000</td>\n",
       "      <td>0.100</td>\n",
       "      <td>2015</td>\n",
       "    </tr>\n",
       "    <tr>\n",
       "      <th>1722055</th>\n",
       "      <td>Wyoming</td>\n",
       "      <td>2015-12-31</td>\n",
       "      <td>2.445833</td>\n",
       "      <td>8.8</td>\n",
       "      <td>0.038263</td>\n",
       "      <td>0.040</td>\n",
       "      <td>-0.175000</td>\n",
       "      <td>-0.1</td>\n",
       "      <td>0.103458</td>\n",
       "      <td>0.155</td>\n",
       "      <td>2015</td>\n",
       "    </tr>\n",
       "    <tr>\n",
       "      <th>1722056</th>\n",
       "      <td>Wyoming</td>\n",
       "      <td>2015-12-31</td>\n",
       "      <td>2.445833</td>\n",
       "      <td>8.8</td>\n",
       "      <td>0.038263</td>\n",
       "      <td>0.040</td>\n",
       "      <td>-0.175000</td>\n",
       "      <td>-0.1</td>\n",
       "      <td>0.100000</td>\n",
       "      <td>0.100</td>\n",
       "      <td>2015</td>\n",
       "    </tr>\n",
       "  </tbody>\n",
       "</table>\n",
       "</div>"
      ],
      "text/plain": [
       "           State  Date Local  NO2 Mean  NO2 1st Max Value   O3 Mean  \\\n",
       "1722052  Wyoming  2015-12-30  7.047826               18.8  0.036917   \n",
       "1722053  Wyoming  2015-12-31  2.445833                8.8  0.038263   \n",
       "1722054  Wyoming  2015-12-31  2.445833                8.8  0.038263   \n",
       "1722055  Wyoming  2015-12-31  2.445833                8.8  0.038263   \n",
       "1722056  Wyoming  2015-12-31  2.445833                8.8  0.038263   \n",
       "\n",
       "         O3 1st Max Value  SO2 Mean  SO2 1st Max Value   CO Mean  \\\n",
       "1722052             0.043 -0.057143                0.2  0.154167   \n",
       "1722053             0.040 -0.187500               -0.1  0.103458   \n",
       "1722054             0.040 -0.187500               -0.1  0.100000   \n",
       "1722055             0.040 -0.175000               -0.1  0.103458   \n",
       "1722056             0.040 -0.175000               -0.1  0.100000   \n",
       "\n",
       "         CO 1st Max Value  year  \n",
       "1722052             0.200  2015  \n",
       "1722053             0.155  2015  \n",
       "1722054             0.100  2015  \n",
       "1722055             0.155  2015  \n",
       "1722056             0.100  2015  "
      ]
     },
     "execution_count": 9,
     "metadata": {},
     "output_type": "execute_result"
    }
   ],
   "source": [
    "# Read it back in\n",
    "tidy_data = pd.read_csv('air_pollution_tidy.csv')\n",
    "tidy_data.tail()"
   ]
  },
  {
   "cell_type": "code",
   "execution_count": 10,
   "metadata": {},
   "outputs": [
    {
     "data": {
      "text/html": [
       "<div>\n",
       "<style scoped>\n",
       "    .dataframe tbody tr th:only-of-type {\n",
       "        vertical-align: middle;\n",
       "    }\n",
       "\n",
       "    .dataframe tbody tr th {\n",
       "        vertical-align: top;\n",
       "    }\n",
       "\n",
       "    .dataframe thead th {\n",
       "        text-align: right;\n",
       "    }\n",
       "</style>\n",
       "<table border=\"1\" class=\"dataframe\">\n",
       "  <thead>\n",
       "    <tr style=\"text-align: right;\">\n",
       "      <th></th>\n",
       "      <th>State</th>\n",
       "      <th>Date Local</th>\n",
       "      <th>year</th>\n",
       "      <th>NO2 Mean</th>\n",
       "      <th>NO2 1st Max Value</th>\n",
       "    </tr>\n",
       "  </thead>\n",
       "  <tbody>\n",
       "    <tr>\n",
       "      <th>0</th>\n",
       "      <td>Arizona</td>\n",
       "      <td>2000-01-01</td>\n",
       "      <td>2000</td>\n",
       "      <td>19.041667</td>\n",
       "      <td>49.0</td>\n",
       "    </tr>\n",
       "    <tr>\n",
       "      <th>1</th>\n",
       "      <td>Arizona</td>\n",
       "      <td>2000-01-01</td>\n",
       "      <td>2000</td>\n",
       "      <td>19.041667</td>\n",
       "      <td>49.0</td>\n",
       "    </tr>\n",
       "    <tr>\n",
       "      <th>2</th>\n",
       "      <td>Arizona</td>\n",
       "      <td>2000-01-01</td>\n",
       "      <td>2000</td>\n",
       "      <td>19.041667</td>\n",
       "      <td>49.0</td>\n",
       "    </tr>\n",
       "    <tr>\n",
       "      <th>3</th>\n",
       "      <td>Arizona</td>\n",
       "      <td>2000-01-01</td>\n",
       "      <td>2000</td>\n",
       "      <td>19.041667</td>\n",
       "      <td>49.0</td>\n",
       "    </tr>\n",
       "    <tr>\n",
       "      <th>4</th>\n",
       "      <td>Arizona</td>\n",
       "      <td>2000-01-02</td>\n",
       "      <td>2000</td>\n",
       "      <td>22.958333</td>\n",
       "      <td>36.0</td>\n",
       "    </tr>\n",
       "  </tbody>\n",
       "</table>\n",
       "</div>"
      ],
      "text/plain": [
       "     State  Date Local  year   NO2 Mean  NO2 1st Max Value\n",
       "0  Arizona  2000-01-01  2000  19.041667               49.0\n",
       "1  Arizona  2000-01-01  2000  19.041667               49.0\n",
       "2  Arizona  2000-01-01  2000  19.041667               49.0\n",
       "3  Arizona  2000-01-01  2000  19.041667               49.0\n",
       "4  Arizona  2000-01-02  2000  22.958333               36.0"
      ]
     },
     "execution_count": 10,
     "metadata": {},
     "output_type": "execute_result"
    }
   ],
   "source": [
    "# Narrow Down to NO2\n",
    "data_no2 = tidy_data[['State', 'Date Local', 'year', 'NO2 Mean', 'NO2 1st Max Value']].copy()\n",
    "\n",
    "data_no2.head()"
   ]
  },
  {
   "cell_type": "code",
   "execution_count": 11,
   "metadata": {},
   "outputs": [
    {
     "data": {
      "image/png": "[encoded data removed]",
      "text/plain": [
       "<Figure size 432x288 with 1 Axes>"
      ]
     },
     "metadata": {
      "needs_background": "light"
     },
     "output_type": "display_data"
    },
    {
     "name": "stdout",
     "output_type": "stream",
     "text": [
      "The r-squared is: 0.9722169759247413\n",
      "The p-value is 2.7097526608987498e-12\n"
     ]
    },
    {
     "data": {
      "image/png": "[encoded data removed]",
      "text/plain": [
       "<Figure size 432x288 with 1 Axes>"
      ]
     },
     "metadata": {
      "needs_background": "light"
     },
     "output_type": "display_data"
    }
   ],
   "source": [
    "# Year-over-year\n",
    "# Make a new dataframe focused only on NO2 data\n",
    "col = ['State', 'Date Local', 'NO2 Mean', 'NO2 1st Max Value', 'year']\n",
    "no2_df = tidy_data[col]\n",
    "no2_df.head(15)\n",
    "\n",
    "# Group data by years\n",
    "group = no2_df.groupby('year')\n",
    "mean = group.mean()\n",
    "mean\n",
    "\n",
    "# Use .arange to make x values for the following charts/graphs\n",
    "x_values = np.arange(2000, 2016, 1)\n",
    "x_values\n",
    "\n",
    "y_values = group['NO2 1st Max Value'].mean()\n",
    "y_values_mean = group['NO2 Mean'].mean()\n",
    "\n",
    "# Line graph for US NO2 1st Max Values and NO2 Mean Values\n",
    "plt.plot(x_values, y_values, marker = 'o', linewidth = 1, label = 'US NO2 1st Max Values')\n",
    "plt.plot(x_values, y_values_mean, marker = 'o', linewidth = 1, label = 'US NO2 Mean')\n",
    "plt.title('US NO2 Values Year-over-Year')\n",
    "plt.grid()\n",
    "plt.xlabel('year')\n",
    "plt.ylabel('NO2 Values (parts per billion)')\n",
    "plt.legend(loc = 'best')\n",
    "plt.tight_layout\n",
    "plt.savefig('./us_no2_plot.png')\n",
    "plt.show()\n",
    "\n",
    "# Linear regression analysis for US NO2 1st Max Values\n",
    "plt.scatter(x_values, y_values)\n",
    "\n",
    "(slope, intercept, rvalue, pvalue, stderr) = linregress(x_values, y_values)\n",
    "regress_values = x_values * slope + intercept\n",
    "line_eq = \"y = \" + str(round(slope,2)) + \"x + \" + str(round(intercept,2))\n",
    "plt.plot(x_values, regress_values, \"--\")\n",
    "# plt.annotate(line_eq,(2006, 30),fontsize=15,color=\"red\")\n",
    "\n",
    "plt.title('US NO2 Values Year-over-Year')\n",
    "plt.grid()\n",
    "plt.xlabel('year')\n",
    "plt.ylabel('NO2 Values (parts per billion)')\n",
    "print(f\"The r-squared is: {rvalue**2}\")\n",
    "print(f'The p-value is {pvalue}')\n",
    "plt.savefig('./us_no2_plot_linregress.png')\n",
    "plt.show()"
   ]
  },
  {
   "cell_type": "code",
   "execution_count": 12,
   "metadata": {},
   "outputs": [],
   "source": [
    "# Regional\n",
    "# Regional differences\n",
    "region_dict = {\n",
    "    'Alabama':'South',\n",
    "    'Alaska':'West',\n",
    "    'Arizona':'West',\n",
    "    'Arkansas':'South',\n",
    "    'California':'West',\n",
    "    'Colorado':'West',\n",
    "    'Connecticut':'Northeast',\n",
    "    'Delaware':'Northeast',\n",
    "    'District Of Columbia' : 'Northeast',\n",
    "    'Florida':'South',\n",
    "    'Georgia':'South',\n",
    "    'Hawaii':'West',\n",
    "    'Idaho':'West',\n",
    "    'Illinois':'Midwest',\n",
    "    'Indiana':'Midwest',\n",
    "    'Iowa':'Midwest',\n",
    "    'Kansas':'Midwest',\n",
    "    'Kentucky':'South',\n",
    "    'Louisiana':'South',\n",
    "    'Maine':'Northeast',\n",
    "    'Maryland':'South',\n",
    "    'Massachusetts':'Northeast',\n",
    "    'Michigan':'Midwest',\n",
    "    'Minnesota':'Midwest',\n",
    "    'Mississippi':'South',\n",
    "    'Missouri':'Midwest',\n",
    "    'Montana':'West',\n",
    "    'Nebraska':'Midwest',\n",
    "    'Nevada':'West',\n",
    "    'New Hampshire':'Northeast',\n",
    "    'New Jersey':'Northeast',\n",
    "    'New Mexico':'West',\n",
    "    'New York':'Northeast',\n",
    "    'North Carolina':'South',\n",
    "    'North Dakota':'Midwest',\n",
    "    'Ohio':'Midwest',\n",
    "    'Oklahoma':'South',\n",
    "    'Oregon':'West',\n",
    "    'Pennsylvania':'Northeast',\n",
    "    'Rhode Island':'Northeast',\n",
    "    'South Carolina':'South',\n",
    "    'South Dakota':'Midwest',\n",
    "    'Tennessee':'South',\n",
    "    'Texas':'South',\n",
    "    'Utah':'West',\n",
    "    'Vermont':'Northeast',\n",
    "    'Virginia':'South',\n",
    "    'Washington':'West',\n",
    "    'West Virginia':'South',\n",
    "    'Wisconsin':'Midwest',\n",
    "    'Wyoming':'West',\n",
    "}\n"
   ]
  },
  {
   "cell_type": "code",
   "execution_count": 13,
   "metadata": {},
   "outputs": [
    {
     "data": {
      "text/html": [
       "<div>\n",
       "<style scoped>\n",
       "    .dataframe tbody tr th:only-of-type {\n",
       "        vertical-align: middle;\n",
       "    }\n",
       "\n",
       "    .dataframe tbody tr th {\n",
       "        vertical-align: top;\n",
       "    }\n",
       "\n",
       "    .dataframe thead th {\n",
       "        text-align: right;\n",
       "    }\n",
       "</style>\n",
       "<table border=\"1\" class=\"dataframe\">\n",
       "  <thead>\n",
       "    <tr style=\"text-align: right;\">\n",
       "      <th></th>\n",
       "      <th>State</th>\n",
       "      <th>Date Local</th>\n",
       "      <th>year</th>\n",
       "      <th>NO2 Mean</th>\n",
       "      <th>NO2 1st Max Value</th>\n",
       "      <th>Region</th>\n",
       "    </tr>\n",
       "  </thead>\n",
       "  <tbody>\n",
       "    <tr>\n",
       "      <th>0</th>\n",
       "      <td>Arizona</td>\n",
       "      <td>2000-01-01</td>\n",
       "      <td>2000</td>\n",
       "      <td>19.041667</td>\n",
       "      <td>49.0</td>\n",
       "      <td>West</td>\n",
       "    </tr>\n",
       "    <tr>\n",
       "      <th>1</th>\n",
       "      <td>Arizona</td>\n",
       "      <td>2000-01-01</td>\n",
       "      <td>2000</td>\n",
       "      <td>19.041667</td>\n",
       "      <td>49.0</td>\n",
       "      <td>West</td>\n",
       "    </tr>\n",
       "    <tr>\n",
       "      <th>2</th>\n",
       "      <td>Arizona</td>\n",
       "      <td>2000-01-01</td>\n",
       "      <td>2000</td>\n",
       "      <td>19.041667</td>\n",
       "      <td>49.0</td>\n",
       "      <td>West</td>\n",
       "    </tr>\n",
       "    <tr>\n",
       "      <th>3</th>\n",
       "      <td>Arizona</td>\n",
       "      <td>2000-01-01</td>\n",
       "      <td>2000</td>\n",
       "      <td>19.041667</td>\n",
       "      <td>49.0</td>\n",
       "      <td>West</td>\n",
       "    </tr>\n",
       "    <tr>\n",
       "      <th>4</th>\n",
       "      <td>Arizona</td>\n",
       "      <td>2000-01-02</td>\n",
       "      <td>2000</td>\n",
       "      <td>22.958333</td>\n",
       "      <td>36.0</td>\n",
       "      <td>West</td>\n",
       "    </tr>\n",
       "  </tbody>\n",
       "</table>\n",
       "</div>"
      ],
      "text/plain": [
       "     State  Date Local  year   NO2 Mean  NO2 1st Max Value Region\n",
       "0  Arizona  2000-01-01  2000  19.041667               49.0   West\n",
       "1  Arizona  2000-01-01  2000  19.041667               49.0   West\n",
       "2  Arizona  2000-01-01  2000  19.041667               49.0   West\n",
       "3  Arizona  2000-01-01  2000  19.041667               49.0   West\n",
       "4  Arizona  2000-01-02  2000  22.958333               36.0   West"
      ]
     },
     "execution_count": 13,
     "metadata": {},
     "output_type": "execute_result"
    }
   ],
   "source": [
    "# Map Region into the dataframe\n",
    "data_no2['Region'] = data_no2['State'].map(region_dict)\n",
    "\n",
    "data_no2.head()"
   ]
  },
  {
   "cell_type": "code",
   "execution_count": 14,
   "metadata": {},
   "outputs": [
    {
     "data": {
      "text/html": [
       "<div>\n",
       "<style scoped>\n",
       "    .dataframe tbody tr th:only-of-type {\n",
       "        vertical-align: middle;\n",
       "    }\n",
       "\n",
       "    .dataframe tbody tr th {\n",
       "        vertical-align: top;\n",
       "    }\n",
       "\n",
       "    .dataframe thead th {\n",
       "        text-align: right;\n",
       "    }\n",
       "</style>\n",
       "<table border=\"1\" class=\"dataframe\">\n",
       "  <thead>\n",
       "    <tr style=\"text-align: right;\">\n",
       "      <th></th>\n",
       "      <th>Region</th>\n",
       "      <th>year</th>\n",
       "      <th>NO2 Mean</th>\n",
       "      <th>NO2 1st Max Value</th>\n",
       "    </tr>\n",
       "  </thead>\n",
       "  <tbody>\n",
       "    <tr>\n",
       "      <th>0</th>\n",
       "      <td>Midwest</td>\n",
       "      <td>2000</td>\n",
       "      <td>17.589403</td>\n",
       "      <td>33.140399</td>\n",
       "    </tr>\n",
       "    <tr>\n",
       "      <th>1</th>\n",
       "      <td>Midwest</td>\n",
       "      <td>2001</td>\n",
       "      <td>17.011671</td>\n",
       "      <td>32.445508</td>\n",
       "    </tr>\n",
       "    <tr>\n",
       "      <th>2</th>\n",
       "      <td>Midwest</td>\n",
       "      <td>2002</td>\n",
       "      <td>15.402753</td>\n",
       "      <td>30.286323</td>\n",
       "    </tr>\n",
       "    <tr>\n",
       "      <th>3</th>\n",
       "      <td>Midwest</td>\n",
       "      <td>2003</td>\n",
       "      <td>15.678108</td>\n",
       "      <td>30.333333</td>\n",
       "    </tr>\n",
       "    <tr>\n",
       "      <th>4</th>\n",
       "      <td>Midwest</td>\n",
       "      <td>2004</td>\n",
       "      <td>14.031407</td>\n",
       "      <td>27.767409</td>\n",
       "    </tr>\n",
       "  </tbody>\n",
       "</table>\n",
       "</div>"
      ],
      "text/plain": [
       "    Region  year   NO2 Mean  NO2 1st Max Value\n",
       "0  Midwest  2000  17.589403          33.140399\n",
       "1  Midwest  2001  17.011671          32.445508\n",
       "2  Midwest  2002  15.402753          30.286323\n",
       "3  Midwest  2003  15.678108          30.333333\n",
       "4  Midwest  2004  14.031407          27.767409"
      ]
     },
     "execution_count": 14,
     "metadata": {},
     "output_type": "execute_result"
    }
   ],
   "source": [
    "# Create a DataFrame group by region and then year\n",
    "\n",
    "grouped_region_yr = data_no2.groupby(['Region', 'year']).mean()\n",
    "\n",
    "grouped_region_yr = grouped_region_yr.reset_index(drop = False)\n",
    "\n",
    "grouped_region_yr.head()\n",
    "\n",
    "# grouped_region_yr.to_clipboard(sep = ',')"
   ]
  },
  {
   "cell_type": "code",
   "execution_count": 15,
   "metadata": {},
   "outputs": [],
   "source": [
    "# Visualization\n",
    "northeast = grouped_region_yr.loc[grouped_region_yr['Region'] == 'Northeast'].copy()\n",
    "midwest = grouped_region_yr.loc[grouped_region_yr['Region'] == 'Midwest'].copy()\n",
    "south = grouped_region_yr.loc[grouped_region_yr['Region'] == 'South'].copy()\n",
    "west = grouped_region_yr.loc[grouped_region_yr['Region'] == 'West'].copy()\n",
    "\n",
    "# west.plot(kind = 'line', x = 'year', y = 'NO2 Mean')\n",
    "# northeast.plot(kind = 'line', x = 'year', y = 'NO2 Mean', color = 'darkorange')\n",
    "\n",
    "# plt.show()"
   ]
  },
  {
   "cell_type": "code",
   "execution_count": 16,
   "metadata": {},
   "outputs": [
    {
     "data": {
      "image/png": "[encoded data removed]",
      "text/plain": [
       "<Figure size 900x900 with 1 Axes>"
      ]
     },
     "metadata": {
      "needs_background": "light"
     },
     "output_type": "display_data"
    }
   ],
   "source": [
    "plt.figure(figsize = (9, 9), dpi = 100)\n",
    "\n",
    "x = west['year']\n",
    "y = west['NO2 Mean']\n",
    "\n",
    "plt.plot(x, y, color = 'b', label = 'West')\n",
    "\n",
    "x1 = northeast['year']\n",
    "y1 = northeast['NO2 Mean']\n",
    "\n",
    "plt.plot(x1, y1, color = 'darkorange', label = 'Northeast')\n",
    "\n",
    "x2 = south['year']\n",
    "y2 = south['NO2 Mean']\n",
    "\n",
    "plt.plot(x2, y2, color = 'crimson', label = 'South')\n",
    "\n",
    "x3 = midwest['year']\n",
    "y3 = midwest['NO2 Mean']\n",
    "\n",
    "plt.plot(x3, y3, color = 'teal', label = 'Midwest')\n",
    "\n",
    "plt.title('Mean NO2 Level by Year')\n",
    "plt.xlabel('Year')\n",
    "plt.ylabel('NO2 Level (Parts per billion)')\n",
    "plt.xticks(ticks = x)\n",
    "\n",
    "plt.legend();"
   ]
  },
  {
   "cell_type": "code",
   "execution_count": 77,
   "metadata": {},
   "outputs": [],
   "source": [
    "# collect NO2 mean from each region and drop the orginal index\n",
    "northeast_no2mean=northeast[\"NO2 Mean\"].reset_index(drop=True)\n",
    "midwest_no2mean=midwest[\"NO2 Mean\"].reset_index(drop=True)\n",
    "south_no2mean=south[\"NO2 Mean\"].reset_index(drop=True)\n",
    "west_no2mean=west[\"NO2 Mean\"].reset_index(drop=True)"
   ]
  },
  {
   "cell_type": "code",
   "execution_count": 78,
   "metadata": {},
   "outputs": [
    {
     "name": "stdout",
     "output_type": "stream",
     "text": [
      "0.9710824489593506 3.4325459141726355e-11\n",
      "81.18147790061013 1.7123350954373835e-17\n"
     ]
    }
   ],
   "source": [
    "## check the assumptions for ANOVA (cite: https://reneshbedre.github.io/blog/anova.html)\n",
    "# Shapiro-Wilk test (null hypotheis --data is drawn from normal distribution) p<0.05 reject the null hypothesis\n",
    "\n",
    "# load packages\n",
    "import scipy.stats as stats\n",
    "w, pvalue = stats.shapiro(model.resid)\n",
    "print(w, pvalue)\n",
    "\n",
    "# Bartlett’s test (Null hypothesis: samples from populations have equal variances) p<0.05 reject the null hypothesis\n",
    "import scipy.stats as stats\n",
    "w, pvalue = stats.bartlett(northeast_no2mean, midwest_no2mean, south_no2mean, south_no2mean)\n",
    "print(w, pvalue)"
   ]
  },
  {
   "cell_type": "code",
   "execution_count": 79,
   "metadata": {},
   "outputs": [
    {
     "data": {
      "text/plain": [
       "F_onewayResult(statistic=32.50302944693241, pvalue=8.862916184249413e-20)"
      ]
     },
     "execution_count": 79,
     "metadata": {},
     "output_type": "execute_result"
    },
    {
     "data": {
      "image/png": "[encoded data removed]",
      "text/plain": [
       "<Figure size 1440x720 with 1 Axes>"
      ]
     },
     "metadata": {
      "needs_background": "light"
     },
     "output_type": "display_data"
    }
   ],
   "source": [
    "# I do not think we can perform one-way ANOVA here, because the it did not fit the normality and homogenicty variance assumptioins)\n",
    "#from scipy import stats\n",
    "#grouped_region_yr.boxplot(\"NO2 Mean\", by=\"Region\", figsize=(20, 10), grid=False)\n",
    "#stats.f_oneway(northeast[\"NO2 Mean\"], midwest[\"NO2 Mean\"], south[\"NO2 Mean\"], west[\"NO2 Mean\"])"
   ]
  },
  {
   "cell_type": "code",
   "execution_count": 76,
   "metadata": {},
   "outputs": [
    {
     "name": "stdout",
     "output_type": "stream",
     "text": [
      "0.9710824489593506 3.4325459141726355e-11\n",
      "81.18147790061013 1.7123350954373835e-17\n",
      "   Multiple Comparison of Means - Tukey HSD, FWER=0.05    \n",
      "==========================================================\n",
      "  group1    group2  meandiff p-adj   lower   upper  reject\n",
      "----------------------------------------------------------\n",
      "  Midwest Northeast   2.7551  0.001  1.5806  3.9297   True\n",
      "  Midwest     South  -1.4754  0.007   -2.65 -0.3009   True\n",
      "  Midwest      West   1.5369 0.0044  0.3623  2.7114   True\n",
      "Northeast     South  -4.2306  0.001 -5.4052  -3.056   True\n",
      "Northeast      West  -1.2183 0.0387 -2.3929 -0.0437   True\n",
      "    South      West   3.0123  0.001  1.8377  4.1869   True\n",
      "----------------------------------------------------------\n"
     ]
    }
   ],
   "source": [
    "# # just to show how to use do Tukey test, but our dataset did not meet the assumptions for one-way ANOVA\n",
    "# # zip above data into a list\n",
    "# list_of_tuples = list(zip(northeast_no2mean, midwest_no2mean, south_no2mean, west_no2mean)) \n",
    "\n",
    "# # Converting lists of tuples into pandas Dataframe\n",
    "# NO2_mean_region = pd.DataFrame(list_of_tuples, columns = ['Northeast', 'Midwest','South','West'])\n",
    "# NO2_mean_region\n",
    "\n",
    "# # get ANOVA table as R like output\n",
    "# import statsmodels.api as sm\n",
    "# from statsmodels.formula.api import ols\n",
    "# # reshape the d dataframe suitable for statsmodels package \n",
    "# d_melt = pd.melt(NO2_mean_region.reset_index(), id_vars=['index'], value_vars=['Northeast', 'Midwest','South','West'])\n",
    "# # replace column names\n",
    "# d_melt.columns = ['index', 'Region', 'Mean_NO2']\n",
    "# d_melt.head()\n",
    "# # perform multiple pairwise comparison (Tukey HSD)\n",
    "# m_comp = pairwise_tukeyhsd(endog=d_melt['Mean_NO2'], groups=d_melt['Region'], alpha=0.05)\n",
    "# print(m_comp)"
   ]
  },
  {
   "cell_type": "code",
   "execution_count": 80,
   "metadata": {},
   "outputs": [
    {
     "data": {
      "text/plain": [
       "Ttest_indResult(statistic=5.707134902561668, pvalue=2.6945773000790913e-08)"
      ]
     },
     "execution_count": 80,
     "metadata": {},
     "output_type": "execute_result"
    }
   ],
   "source": [
    "# Calculate Independent (Two Sample) T-Test\n",
    "stats.ttest_ind(northeast_no2mean, midwest_no2mean, equal_var=False)"
   ]
  },
  {
   "cell_type": "code",
   "execution_count": 81,
   "metadata": {},
   "outputs": [
    {
     "data": {
      "text/plain": [
       "Ttest_indResult(statistic=8.640070134972966, pvalue=2.7577358126904945e-16)"
      ]
     },
     "execution_count": 81,
     "metadata": {},
     "output_type": "execute_result"
    }
   ],
   "source": [
    "# Calculate Independent (Two Sample) T-Test\n",
    "stats.ttest_ind(northeast_no2mean, south_no2mean, equal_var=False)"
   ]
  },
  {
   "cell_type": "code",
   "execution_count": 82,
   "metadata": {},
   "outputs": [
    {
     "data": {
      "text/plain": [
       "Ttest_indResult(statistic=2.262539092415285, pvalue=0.02424655905406459)"
      ]
     },
     "execution_count": 82,
     "metadata": {},
     "output_type": "execute_result"
    }
   ],
   "source": [
    "# Calculate Independent (Two Sample) T-Test\n",
    "stats.ttest_ind(northeast_no2mean, west_no2mean, equal_var=False)"
   ]
  },
  {
   "cell_type": "code",
   "execution_count": 83,
   "metadata": {},
   "outputs": [
    {
     "data": {
      "text/plain": [
       "Ttest_indResult(statistic=4.151950943880369, pvalue=4.071034264173572e-05)"
      ]
     },
     "execution_count": 83,
     "metadata": {},
     "output_type": "execute_result"
    }
   ],
   "source": [
    "# Calculate Independent (Two Sample) T-Test\n",
    "stats.ttest_ind(midwest_no2mean, south_no2mean, equal_var=False)"
   ]
  },
  {
   "cell_type": "code",
   "execution_count": 84,
   "metadata": {},
   "outputs": [
    {
     "data": {
      "text/plain": [
       "Ttest_indResult(statistic=-3.658447211505495, pvalue=0.00029325701539204577)"
      ]
     },
     "execution_count": 84,
     "metadata": {},
     "output_type": "execute_result"
    }
   ],
   "source": [
    "# Calculate Independent (Two Sample) T-Test\n",
    "stats.ttest_ind(midwest_no2mean, west_no2mean, equal_var=False)"
   ]
  },
  {
   "cell_type": "code",
   "execution_count": 85,
   "metadata": {},
   "outputs": [
    {
     "data": {
      "text/plain": [
       "Ttest_indResult(statistic=-7.038294511879622, pvalue=1.009126518355953e-11)"
      ]
     },
     "execution_count": 85,
     "metadata": {},
     "output_type": "execute_result"
    }
   ],
   "source": [
    "# Calculate Independent (Two Sample) T-Test\n",
    "stats.ttest_ind(south_no2mean, west_no2mean, equal_var=False)"
   ]
  },
  {
   "cell_type": "code",
   "execution_count": null,
   "metadata": {},
   "outputs": [],
   "source": []
  },
  {
   "cell_type": "code",
   "execution_count": null,
   "metadata": {},
   "outputs": [],
   "source": []
  },
  {
   "cell_type": "code",
   "execution_count": 18,
   "metadata": {},
   "outputs": [
    {
     "data": {
      "text/html": [
       "<div>\n",
       "<style scoped>\n",
       "    .dataframe tbody tr th:only-of-type {\n",
       "        vertical-align: middle;\n",
       "    }\n",
       "\n",
       "    .dataframe tbody tr th {\n",
       "        vertical-align: top;\n",
       "    }\n",
       "\n",
       "    .dataframe thead th {\n",
       "        text-align: right;\n",
       "    }\n",
       "</style>\n",
       "<table border=\"1\" class=\"dataframe\">\n",
       "  <thead>\n",
       "    <tr style=\"text-align: right;\">\n",
       "      <th></th>\n",
       "      <th>State</th>\n",
       "      <th>Date Local</th>\n",
       "      <th>year</th>\n",
       "      <th>NO2 Mean</th>\n",
       "      <th>NO2 1st Max Value</th>\n",
       "      <th>Region</th>\n",
       "      <th>month</th>\n",
       "      <th>yearmonth</th>\n",
       "    </tr>\n",
       "  </thead>\n",
       "  <tbody>\n",
       "    <tr>\n",
       "      <th>0</th>\n",
       "      <td>Arizona</td>\n",
       "      <td>2000-01-01</td>\n",
       "      <td>2000</td>\n",
       "      <td>19.041667</td>\n",
       "      <td>49.0</td>\n",
       "      <td>West</td>\n",
       "      <td>01</td>\n",
       "      <td>200001</td>\n",
       "    </tr>\n",
       "    <tr>\n",
       "      <th>1</th>\n",
       "      <td>Arizona</td>\n",
       "      <td>2000-01-01</td>\n",
       "      <td>2000</td>\n",
       "      <td>19.041667</td>\n",
       "      <td>49.0</td>\n",
       "      <td>West</td>\n",
       "      <td>01</td>\n",
       "      <td>200001</td>\n",
       "    </tr>\n",
       "    <tr>\n",
       "      <th>2</th>\n",
       "      <td>Arizona</td>\n",
       "      <td>2000-01-01</td>\n",
       "      <td>2000</td>\n",
       "      <td>19.041667</td>\n",
       "      <td>49.0</td>\n",
       "      <td>West</td>\n",
       "      <td>01</td>\n",
       "      <td>200001</td>\n",
       "    </tr>\n",
       "    <tr>\n",
       "      <th>3</th>\n",
       "      <td>Arizona</td>\n",
       "      <td>2000-01-01</td>\n",
       "      <td>2000</td>\n",
       "      <td>19.041667</td>\n",
       "      <td>49.0</td>\n",
       "      <td>West</td>\n",
       "      <td>01</td>\n",
       "      <td>200001</td>\n",
       "    </tr>\n",
       "    <tr>\n",
       "      <th>4</th>\n",
       "      <td>Arizona</td>\n",
       "      <td>2000-01-02</td>\n",
       "      <td>2000</td>\n",
       "      <td>22.958333</td>\n",
       "      <td>36.0</td>\n",
       "      <td>West</td>\n",
       "      <td>01</td>\n",
       "      <td>200001</td>\n",
       "    </tr>\n",
       "  </tbody>\n",
       "</table>\n",
       "</div>"
      ],
      "text/plain": [
       "     State  Date Local  year   NO2 Mean  NO2 1st Max Value Region month  \\\n",
       "0  Arizona  2000-01-01  2000  19.041667               49.0   West    01   \n",
       "1  Arizona  2000-01-01  2000  19.041667               49.0   West    01   \n",
       "2  Arizona  2000-01-01  2000  19.041667               49.0   West    01   \n",
       "3  Arizona  2000-01-01  2000  19.041667               49.0   West    01   \n",
       "4  Arizona  2000-01-02  2000  22.958333               36.0   West    01   \n",
       "\n",
       "  yearmonth  \n",
       "0    200001  \n",
       "1    200001  \n",
       "2    200001  \n",
       "3    200001  \n",
       "4    200001  "
      ]
     },
     "execution_count": 18,
     "metadata": {},
     "output_type": "execute_result"
    }
   ],
   "source": [
    "# let's try monthly\n",
    "\n",
    "data_no2['month'] = data_no2['Date Local'].str[5:7]\n",
    "\n",
    "data_no2['yearmonth'] = data_no2['year'].astype(str) + data_no2['month'].astype(str)\n",
    "\n",
    "data_no2.head()"
   ]
  },
  {
   "cell_type": "code",
   "execution_count": 19,
   "metadata": {},
   "outputs": [],
   "source": [
    "# groupby region, year, month\n",
    "\n",
    "gby_region_yrmo = data_no2.groupby(['Region', 'yearmonth']).mean()\n",
    "\n",
    "gby_region_yrmo = gby_region_yrmo.reset_index( drop = False)"
   ]
  },
  {
   "cell_type": "code",
   "execution_count": 20,
   "metadata": {},
   "outputs": [],
   "source": [
    "gby_region_yrmo.to_clipboard(sep = ',')"
   ]
  },
  {
   "cell_type": "code",
   "execution_count": 21,
   "metadata": {},
   "outputs": [
    {
     "data": {
      "image/png": "[encoded data removed]",
      "text/plain": [
       "<Figure size 900x900 with 1 Axes>"
      ]
     },
     "metadata": {
      "needs_background": "light"
     },
     "output_type": "display_data"
    }
   ],
   "source": [
    "northeast = gby_region_yrmo.loc[gby_region_yrmo['Region'] == 'Northeast'].copy()\n",
    "midwest = gby_region_yrmo.loc[gby_region_yrmo['Region'] == 'Midwest'].copy()\n",
    "south = gby_region_yrmo.loc[gby_region_yrmo['Region'] == 'South'].copy()\n",
    "west = gby_region_yrmo.loc[gby_region_yrmo['Region'] == 'West'].copy()\n",
    "\n",
    "# west.plot(kind = 'line', x = 'year', y = 'NO2 Mean')\n",
    "# northeast.plot(kind = 'line', x = 'year', y = 'NO2 Mean', color = 'darkorange')\n",
    "\n",
    "plt.figure(figsize = (9, 9), dpi = 100)\n",
    "\n",
    "x = west['yearmonth']\n",
    "y = west['NO2 Mean']\n",
    "\n",
    "plt.plot(x, y, color = 'b', label = 'West')\n",
    "\n",
    "# x1 = northeast['yearmonth']\n",
    "# y1 = northeast['NO2 Mean']\n",
    "\n",
    "# plt.plot(x1, y1, color = 'darkorange', label = 'Northeast')\n",
    "\n",
    "x2 = south['yearmonth']\n",
    "y2 = south['NO2 Mean']\n",
    "\n",
    "plt.plot(x2, y2, color = 'crimson', label = 'South')\n",
    "\n",
    "# x3 = midwest['yearmonth']\n",
    "# y3 = midwest['NO2 Mean']\n",
    "\n",
    "# plt.plot(x3, y3, color = 'teal', label = 'Midwest')\n",
    "\n",
    "plt.title('Mean NO2 Level by Month')\n",
    "plt.xlabel('yearmonth')\n",
    "plt.ylabel('NO2 Level (Parts per billion)')\n",
    "plt.xticks(ticks = x)\n",
    "\n",
    "plt.legend();\n",
    "plt.show()"
   ]
  }
 ],
 "metadata": {
  "kernelspec": {
   "display_name": "PythonData",
   "language": "python",
   "name": "pythondata"
  },
  "language_info": {
   "codemirror_mode": {
    "name": "ipython",
    "version": 3
   },
   "file_extension": ".py",
   "mimetype": "text/x-python",
   "name": "python",
   "nbconvert_exporter": "python",
   "pygments_lexer": "ipython3",
   "version": "3.6.10"
  }
 },
 "nbformat": 4,
 "nbformat_minor": 4
}
