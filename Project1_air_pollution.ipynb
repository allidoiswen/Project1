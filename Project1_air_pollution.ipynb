{
 "cells": [
  {
   "cell_type": "markdown",
   "metadata": {},
   "source": [
    "# Group 3 - Project 1 - Air Pollution in the United States"
   ]
  },
  {
   "cell_type": "markdown",
   "metadata": {},
   "source": [
    "### Introduction"
   ]
  },
  {
   "cell_type": "code",
   "execution_count": 1,
   "metadata": {},
   "outputs": [],
   "source": [
    "'''\n",
    "Requirement: Google API key gkey in config.py\n",
    "'''\n",
    "\n",
    "# import modules\n",
    "import os\n",
    "import pandas as pd\n",
    "import numpy as np\n",
    "import matplotlib.pyplot as plt\n",
    "import seaborn as sns\n",
    "import requests\n",
    "import json\n",
    "import gmaps\n",
    "from config import gkey\n",
    "from pprint import pprint\n",
    "\n",
    "from scipy import stats\n",
    "from scipy.stats import linregress\n",
    "\n",
    "# Import Data (Smaller test data to start with)\n",
    "file_path = os.path.join('..', 'Project1', 'data-society-us-air-pollution-data', 'uspollution', 'pollution_us_2000_2016.csv')\n",
    "raw_data = pd.read_csv(file_path)"
   ]
  },
  {
   "cell_type": "markdown",
   "metadata": {},
   "source": [
    "### Data Exploration and Cleanup"
   ]
  },
  {
   "cell_type": "code",
   "execution_count": 2,
   "metadata": {},
   "outputs": [
    {
     "name": "stdout",
     "output_type": "stream",
     "text": [
      "<class 'pandas.core.frame.DataFrame'>\n",
      "RangeIndex: 1746661 entries, 0 to 1746660\n",
      "Data columns (total 29 columns):\n",
      "Unnamed: 0           int64\n",
      "State Code           int64\n",
      "County Code          int64\n",
      "Site Num             int64\n",
      "Address              object\n",
      "State                object\n",
      "County               object\n",
      "City                 object\n",
      "Date Local           object\n",
      "NO2 Units            object\n",
      "NO2 Mean             float64\n",
      "NO2 1st Max Value    float64\n",
      "NO2 1st Max Hour     int64\n",
      "NO2 AQI              int64\n",
      "O3 Units             object\n",
      "O3 Mean              float64\n",
      "O3 1st Max Value     float64\n",
      "O3 1st Max Hour      int64\n",
      "O3 AQI               int64\n",
      "SO2 Units            object\n",
      "SO2 Mean             float64\n",
      "SO2 1st Max Value    float64\n",
      "SO2 1st Max Hour     int64\n",
      "SO2 AQI              float64\n",
      "CO Units             object\n",
      "CO Mean              float64\n",
      "CO 1st Max Value     float64\n",
      "CO 1st Max Hour      int64\n",
      "CO AQI               float64\n",
      "dtypes: float64(10), int64(10), object(9)\n",
      "memory usage: 386.5+ MB\n"
     ]
    },
    {
     "data": {
      "text/plain": [
       "None"
      ]
     },
     "metadata": {},
     "output_type": "display_data"
    }
   ],
   "source": [
    "# Examine Colume datae type\n",
    "display(raw_data.info())"
   ]
  },
  {
   "cell_type": "code",
   "execution_count": 3,
   "metadata": {},
   "outputs": [
    {
     "name": "stdout",
     "output_type": "stream",
     "text": [
      "This air pollution dataset has 1746661 rows of data, and each row has 29 columns.\n"
     ]
    }
   ],
   "source": [
    "# Examine the shape of the dataset set\n",
    "data_dem = raw_data.shape\n",
    "num_raws = data_dem[0]\n",
    "num_cols = data_dem[1]\n",
    "print(f\"This air pollution dataset has {num_raws} rows of data, and each row has {num_cols} columns.\")"
   ]
  },
  {
   "cell_type": "code",
   "execution_count": 4,
   "metadata": {},
   "outputs": [
    {
     "name": "stdout",
     "output_type": "stream",
     "text": [
      "There are 47 states in the dataset.\n"
     ]
    }
   ],
   "source": [
    "# How Many Unique States?\n",
    "state_uni = raw_data[\"State\"].unique()\n",
    "print(f\"There are {len(state_uni)} states in the dataset.\")"
   ]
  },
  {
   "cell_type": "code",
   "execution_count": 5,
   "metadata": {},
   "outputs": [
    {
     "name": "stdout",
     "output_type": "stream",
     "text": [
      "Missing states:  ['Mississippi', 'Montana', 'Nebraska', 'Vermont', 'West Virginia']\n"
     ]
    }
   ],
   "source": [
    "# We notice some states are missing. Identify missing states.\n",
    "'''source: https://gist.github.com/rugbyprof/76575b470b6772ce8fa0c49e23931d97'''\n",
    "state_list = {\"AL\":\"Alabama\"      ,\"AK\":\"Alaska\"     ,\"AZ\":\"Arizona\"       ,\"AR\":\"Arkansas\"     ,\"CA\":\"California\",\n",
    "              \"CO\":\"Colorado\"     ,\"CT\":\"Connecticut\",\"DE\":\"Delaware\"      ,\"FL\":\"Florida\"      ,\"GA\":\"Georgia\"   ,\n",
    "              \"HI\":\"Hawaii\"       ,\"ID\":\"Idaho\"      ,\"IL\":\"Illinois\"      ,\"IN\":\"Indiana\"      ,\"IA\":\"Iowa\"      ,\n",
    "              \"KS\":\"Kansas\"       ,\"KY\":\"Kentucky\"   ,\"LA\":\"Louisiana\"     ,\"ME\":\"Maine\"        ,\"MD\":\"Maryland\"  ,\n",
    "              \"MA\":\"Massachusetts\",\"MI\":\"Michigan\"   ,\"MN\":\"Minnesota\"     ,\"MS\":\"Mississippi\"  ,\"MO\":\"Missouri\"  ,\n",
    "              \"MT\":\"Montana\"      ,\"NE\":\"Nebraska\"   ,\"NV\":\"Nevada\"        ,\"NH\":\"New Hampshire\",\"NJ\":\"New Jersey\",\n",
    "              \"NM\":\"New Mexico\"   ,\"NY\":\"New York\"   ,\"NC\":\"North Carolina\",\"ND\":\"North Dakota\" ,\"OH\":\"Ohio\"      ,\n",
    "              \"OK\":\"Oklahoma\"     ,\"OR\":\"Oregon\"     ,\"PA\":\"Pennsylvania\"  ,\"RI\":\"Rhode Island\" ,\"SC\":\"South Carolina\",\n",
    "              \"SD\":\"South Dakota\" ,\"TN\":\"Tennessee\"  ,\"TX\":\"Texas\"         ,\"UT\":\"Utah\"         ,\"VT\":\"Vermont\",\n",
    "              \"VA\":\"Virginia\"     ,\"WA\":\"Washington\" ,\"WV\":\"West Virginia\" ,\"WI\":\"Wisconsin\"    ,\"WY\":\"Wyoming\",\n",
    "              \"DC\":\"District Of Columbia\",\n",
    "         } \n",
    "missing_states = []\n",
    "for itm in state_list:\n",
    "    if state_list[itm] not in state_uni:\n",
    "        missing_states.append(state_list[itm])\n",
    "        \n",
    "print('Missing states: ', missing_states)"
   ]
  },
  {
   "cell_type": "code",
   "execution_count": 6,
   "metadata": {},
   "outputs": [
    {
     "name": "stdout",
     "output_type": "stream",
     "text": [
      "array(['Alabama', 'Alaska', 'Arizona', 'Arkansas', 'California',\n",
      "       'Colorado', 'Connecticut', 'Country Of Mexico', 'Delaware',\n",
      "       'District Of Columbia', 'Florida', 'Georgia', 'Hawaii', 'Idaho',\n",
      "       'Illinois', 'Indiana', 'Iowa', 'Kansas', 'Kentucky', 'Louisiana',\n",
      "       'Maine', 'Maryland', 'Massachusetts', 'Michigan', 'Minnesota',\n",
      "       'Missouri', 'Nevada', 'New Hampshire', 'New Jersey', 'New Mexico',\n",
      "       'New York', 'North Carolina', 'North Dakota', 'Ohio', 'Oklahoma',\n",
      "       'Oregon', 'Pennsylvania', 'Rhode Island', 'South Carolina',\n",
      "       'South Dakota', 'Tennessee', 'Texas', 'Utah', 'Virginia',\n",
      "       'Washington', 'Wisconsin', 'Wyoming'], dtype=object)\n"
     ]
    }
   ],
   "source": [
    "# Adding the unique states in the dataset plus missing states equal to 52. Something is not right.\n",
    "pprint(np.sort(state_uni))"
   ]
  },
  {
   "cell_type": "code",
   "execution_count": 7,
   "metadata": {},
   "outputs": [],
   "source": [
    "# Drop Country of Mexico\n",
    "trim_data = raw_data.loc[raw_data['State'] != 'Country Of Mexico']"
   ]
  },
  {
   "cell_type": "code",
   "execution_count": 8,
   "metadata": {},
   "outputs": [
    {
     "name": "stdout",
     "output_type": "stream",
     "text": [
      "State :  0\n",
      "Date Local :  0\n",
      "NO2 Mean :  0\n"
     ]
    }
   ],
   "source": [
    "# Keep only NO2 Mean Data\n",
    "col_list = ['State', 'Date Local', 'NO2 Mean']\n",
    "trim_data = trim_data[col_list]\n",
    "\n",
    "# Examine whether we have any NaN in the data\n",
    "for col in col_list:\n",
    "    print(col, ': ', trim_data.loc[trim_data[col].isna()].shape[0])"
   ]
  },
  {
   "cell_type": "code",
   "execution_count": 9,
   "metadata": {},
   "outputs": [],
   "source": [
    "# Examine any duplicates\n",
    "trim_data = trim_data.drop_duplicates(subset = col_list)"
   ]
  },
  {
   "cell_type": "code",
   "execution_count": 10,
   "metadata": {},
   "outputs": [],
   "source": [
    "# Add Year Column\n",
    "trim_data['year'] = trim_data['Date Local'].str[:4].astype(int)\n",
    "\n",
    "# Add Month Column\n",
    "trim_data['month'] = trim_data['Date Local'].str[5:7].astype(int)"
   ]
  },
  {
   "cell_type": "code",
   "execution_count": 11,
   "metadata": {},
   "outputs": [
    {
     "data": {
      "image/png": "[encoded data removed]",
      "text/plain": [
       "<Figure size 432x288 with 1 Axes>"
      ]
     },
     "metadata": {
      "needs_background": "light"
     },
     "output_type": "display_data"
    }
   ],
   "source": [
    "# Examine year month range\n",
    "trim_data_group = trim_data.groupby(['year', 'month']).count()\n",
    "\n",
    "trim_data_group = trim_data_group.reset_index(drop = False)\n",
    "\n",
    "## Sort by Year and then month\n",
    "trim_data_group = trim_data_group.sort_values(['year', 'month'])\n",
    "\n",
    "# Visualize any missing months\n",
    "year_month = trim_data_group[['year', 'month']]\n",
    "year_month_group = year_month.groupby('year').count()\n",
    "year_month_group = year_month_group.reset_index(drop = False)\n",
    "year_month_group = year_month_group.rename(columns = {'month' : 'month_count'})\n",
    "\n",
    "year_month_group.plot(kind = 'bar', x = 'year', y = 'month_count', color = 'darkorange', legend=None);\n",
    "## Add chart details\n",
    "plt.title('Month Count per Year');\n",
    "plt.ylabel('Month Count');\n",
    "### let's drop 2016 as it's a partial year in the dataset"
   ]
  },
  {
   "cell_type": "code",
   "execution_count": 12,
   "metadata": {},
   "outputs": [],
   "source": [
    "# Drop 2016 Data due to partial year\n",
    "trim_data = trim_data.loc[trim_data['year'] != 2016].copy()\n",
    "\n",
    "# Create a Tidy Dataset\n",
    "tidy_data = trim_data.copy()\n",
    "\n",
    "# Save Tidy Data\n",
    "tidy_data.to_csv('air_pollution_tidy.csv', index = False)"
   ]
  },
  {
   "cell_type": "code",
   "execution_count": 13,
   "metadata": {},
   "outputs": [
    {
     "data": {
      "text/html": [
       "<div>\n",
       "<style scoped>\n",
       "    .dataframe tbody tr th:only-of-type {\n",
       "        vertical-align: middle;\n",
       "    }\n",
       "\n",
       "    .dataframe tbody tr th {\n",
       "        vertical-align: top;\n",
       "    }\n",
       "\n",
       "    .dataframe thead th {\n",
       "        text-align: right;\n",
       "    }\n",
       "</style>\n",
       "<table border=\"1\" class=\"dataframe\">\n",
       "  <thead>\n",
       "    <tr style=\"text-align: right;\">\n",
       "      <th></th>\n",
       "      <th>State</th>\n",
       "      <th>Date Local</th>\n",
       "      <th>NO2 Mean</th>\n",
       "      <th>year</th>\n",
       "      <th>month</th>\n",
       "    </tr>\n",
       "  </thead>\n",
       "  <tbody>\n",
       "    <tr>\n",
       "      <th>403216</th>\n",
       "      <td>Wyoming</td>\n",
       "      <td>2015-12-27</td>\n",
       "      <td>9.456522</td>\n",
       "      <td>2015</td>\n",
       "      <td>12</td>\n",
       "    </tr>\n",
       "    <tr>\n",
       "      <th>403217</th>\n",
       "      <td>Wyoming</td>\n",
       "      <td>2015-12-28</td>\n",
       "      <td>13.200000</td>\n",
       "      <td>2015</td>\n",
       "      <td>12</td>\n",
       "    </tr>\n",
       "    <tr>\n",
       "      <th>403218</th>\n",
       "      <td>Wyoming</td>\n",
       "      <td>2015-12-29</td>\n",
       "      <td>10.045833</td>\n",
       "      <td>2015</td>\n",
       "      <td>12</td>\n",
       "    </tr>\n",
       "    <tr>\n",
       "      <th>403219</th>\n",
       "      <td>Wyoming</td>\n",
       "      <td>2015-12-30</td>\n",
       "      <td>7.047826</td>\n",
       "      <td>2015</td>\n",
       "      <td>12</td>\n",
       "    </tr>\n",
       "    <tr>\n",
       "      <th>403220</th>\n",
       "      <td>Wyoming</td>\n",
       "      <td>2015-12-31</td>\n",
       "      <td>2.445833</td>\n",
       "      <td>2015</td>\n",
       "      <td>12</td>\n",
       "    </tr>\n",
       "  </tbody>\n",
       "</table>\n",
       "</div>"
      ],
      "text/plain": [
       "          State  Date Local   NO2 Mean  year  month\n",
       "403216  Wyoming  2015-12-27   9.456522  2015     12\n",
       "403217  Wyoming  2015-12-28  13.200000  2015     12\n",
       "403218  Wyoming  2015-12-29  10.045833  2015     12\n",
       "403219  Wyoming  2015-12-30   7.047826  2015     12\n",
       "403220  Wyoming  2015-12-31   2.445833  2015     12"
      ]
     },
     "execution_count": 13,
     "metadata": {},
     "output_type": "execute_result"
    }
   ],
   "source": [
    "# Read Tidy Data back\n",
    "tidy_data = pd.read_csv('air_pollution_tidy.csv')\n",
    "tidy_data.tail()"
   ]
  },
  {
   "cell_type": "code",
   "execution_count": 14,
   "metadata": {},
   "outputs": [],
   "source": [
    "# Polluption Visualization on a heatmap\n",
    "grouped_state_year = tidy_data.groupby(['State', 'year']).mean()\n",
    "grouped_state_year = grouped_state_year.reset_index()\n",
    "\n",
    "year = 2015\n",
    "data_year = grouped_state_year.loc[grouped_state_year['year'] == year].copy()\n",
    "\n",
    "state = grouped_state_year['State'].unique()\n",
    "\n",
    "# Call and lookup each state's coordinates\n",
    "lat_list = []\n",
    "lng_list = []\n",
    "\n",
    "for itm in state:\n",
    "\n",
    "    # Build the endpoint URL\n",
    "    target_url = ('https://maps.googleapis.com/maps/api/geocode/json?'\n",
    "        'address={0}&key={1}').format(itm + ', USA', gkey)\n",
    "\n",
    "    # Run a request to endpoint and convert result to json\n",
    "    geo_data = requests.get(target_url).json()\n",
    "    \n",
    "    # Find Each state's geo location\n",
    "    lat = geo_data['results'][0]['geometry']['location']['lat']\n",
    "    lng = geo_data['results'][0]['geometry']['location']['lng']\n",
    "    \n",
    "    # Save latitude and longitude into lists\n",
    "    lat_list.append(lat)\n",
    "    lng_list.append(lng)\n",
    "\n",
    "\n",
    "state_coor_list = {\n",
    "    'State' : state,\n",
    "    'lat'   : lat_list,\n",
    "    'lng'   : lng_list,\n",
    "}\n",
    "\n",
    "state_coor = pd.DataFrame(state_coor_list)\n",
    "state_coor.to_csv('state_coordinates.csv', index = False)\n",
    "\n",
    "merge_coor_data = pd.merge(state_coor, data_year, on = 'State', how = 'left')"
   ]
  },
  {
   "cell_type": "code",
   "execution_count": 15,
   "metadata": {},
   "outputs": [
    {
     "data": {
      "application/vnd.jupyter.widget-view+json": {
       "model_id": "856dba8d46014c268f559c332822e0aa",
       "version_major": 2,
       "version_minor": 0
      },
      "text/plain": [
       "Figure(layout=FigureLayout(height='420px'))"
      ]
     },
     "metadata": {},
     "output_type": "display_data"
    }
   ],
   "source": [
    "# Configure gmaps\n",
    "gmaps.configure(api_key=gkey)\n",
    "\n",
    "locations = merge_coor_data[['lat', 'lng']].copy()\n",
    "\n",
    "weights = merge_coor_data['NO2 Mean']\n",
    "\n",
    "# Plot Heatmap\n",
    "fig = gmaps.figure(zoom_level = 3, center = (40, -75))\n",
    "\n",
    "# Create heat layer\n",
    "heat_layer = gmaps.heatmap_layer(locations, weights=weights, \n",
    "                                 dissipating = False, max_intensity=15,\n",
    "                                 point_radius=3)\n",
    "\n",
    "\n",
    "# Add layer\n",
    "fig.add_layer(heat_layer)\n",
    "\n",
    "# Display figure\n",
    "fig"
   ]
  },
  {
   "cell_type": "markdown",
   "metadata": {},
   "source": [
    "### Year-over-year NO2 Mean Values Analysis"
   ]
  },
  {
   "cell_type": "code",
   "execution_count": null,
   "metadata": {},
   "outputs": [],
   "source": [
    "# Year-over-year NO2 level Analysis\n",
    "\n",
    "# Group data by years\n",
    "group_data = tidy_data.groupby('year').mean()\n",
    "## Reset index\n",
    "group_data = group_data.reset_index(drop = False)"
   ]
  },
  {
   "cell_type": "code",
   "execution_count": null,
   "metadata": {},
   "outputs": [],
   "source": [
    "# Use .arange to make x values for the following charts/graphs\n",
    "x_values = np.arange(group_data['year'].min(), group_data['year'].max() + 1, 1)\n",
    "y_values = group_data['NO2 Mean']"
   ]
  },
  {
   "cell_type": "code",
   "execution_count": null,
   "metadata": {},
   "outputs": [],
   "source": [
    "# Set up plot size\n",
    "plt.figure(figsize = (9, 9), dpi = 100)\n",
    "plt.axes(facecolor = 'lightgrey')\n",
    "\n",
    "# Line graph for NO2 Mean Values\n",
    "plt.plot(x_values, y_values, linewidth = 4, label = 'NO2 Mean Values', color = 'darkorange')\n",
    "plt.title('US NO2 Mean Values Year over Year')\n",
    "plt.xlabel('Year')\n",
    "plt.ylabel('NO2 Level (parts per billion)')\n",
    "plt.legend(loc = 'best')\n",
    "plt.savefig('./us_no2_plot.png')\n",
    "plt.xticks(ticks = x_values, rotation = 45)\n",
    "plt.show()"
   ]
  },
  {
   "cell_type": "code",
   "execution_count": null,
   "metadata": {
    "scrolled": false
   },
   "outputs": [],
   "source": [
    "# Linear regression analysis for US NO2 Level\n",
    "plt.figure(figsize = (9, 9), dpi = 100)\n",
    "plt.scatter(x_values, y_values, color = 'darkorange')\n",
    "\n",
    "(slope, intercept, rvalue, pvalue, stderr) = linregress(x_values, y_values)\n",
    "regress_values = x_values * slope + intercept\n",
    "line_eq = \"y = \" + str(round(slope,2)) + \"x + \" + str(round(intercept,2))\n",
    "plt.plot(x_values, regress_values, \"--\", color = 'black')\n",
    "plt.annotate(line_eq, (2008, 13.5), fontsize = 15, color = \"black\")\n",
    "\n",
    "plt.title('US NO2 Mean Values Year over Year')\n",
    "plt.xlabel('Year')\n",
    "plt.ylabel('NO2 Values (parts per billion)')\n",
    "print(f\"The r-squared is: {rvalue**2}\")\n",
    "print(f'The p-value is {pvalue}')\n",
    "plt.savefig('./us_no2_plot_linregress.png')\n",
    "plt.xticks(ticks = x_values, rotation = 45)\n",
    "plt.show()"
   ]
  },
  {
   "cell_type": "markdown",
   "metadata": {},
   "source": [
    "### Regional NO2 Mean Values Analysis"
   ]
  },
  {
   "cell_type": "code",
   "execution_count": null,
   "metadata": {},
   "outputs": [],
   "source": [
    "# Regional NO2 Mean Values Analysis\n",
    "\n",
    "# Define each state's region\n",
    "region_dict = {\n",
    "    'Alabama':'South', 'Alaska':'West', 'Arizona':'West', 'Arkansas':'South', 'California':'West',\n",
    "    'Colorado':'West', 'Connecticut':'Northeast', 'Delaware':'Northeast', 'District Of Columbia' : 'Northeast', 'Florida':'South',\n",
    "    'Georgia':'South', 'Hawaii':'West', 'Idaho':'West', 'Illinois':'Midwest', 'Indiana':'Midwest', 'Iowa':'Midwest',\n",
    "    'Kansas':'Midwest', 'Kentucky':'South', 'Louisiana':'South', 'Maine':'Northeast', 'Maryland':'South',\n",
    "    'Massachusetts':'Northeast', 'Michigan':'Midwest', 'Minnesota':'Midwest', 'Mississippi':'South', 'Missouri':'Midwest',\n",
    "    'Montana':'West', 'Nebraska':'Midwest', 'Nevada':'West', 'New Hampshire':'Northeast', 'New Jersey':'Northeast',\n",
    "    'New Mexico':'West', 'New York':'Northeast', 'North Carolina':'South', 'North Dakota':'Midwest', 'Ohio':'Midwest',\n",
    "    'Oklahoma':'South', 'Oregon':'West', 'Pennsylvania':'Northeast', 'Rhode Island':'Northeast', 'South Carolina':'South',\n",
    "    'South Dakota':'Midwest','Tennessee':'South','Texas':'South','Utah':'West','Vermont':'Northeast',\n",
    "    'Virginia':'South', 'Washington':'West', 'West Virginia':'South','Wisconsin':'Midwest','Wyoming':'West',\n",
    "}\n"
   ]
  },
  {
   "cell_type": "code",
   "execution_count": null,
   "metadata": {},
   "outputs": [],
   "source": [
    "# Map Region into the dataframe\n",
    "data_no2 = tidy_data.copy()\n",
    "data_no2['Region'] = data_no2['State'].map(region_dict)\n",
    "\n",
    "data_no2.head()"
   ]
  },
  {
   "cell_type": "code",
   "execution_count": null,
   "metadata": {},
   "outputs": [],
   "source": [
    "# Create a DataFrame group by region and then year\n",
    "grouped_region_yr = data_no2.groupby(['Region', 'year']).mean()\n",
    "grouped_region_yr = grouped_region_yr.reset_index(drop = False)\n",
    "grouped_region_yr.head()"
   ]
  },
  {
   "cell_type": "code",
   "execution_count": null,
   "metadata": {},
   "outputs": [],
   "source": [
    "# Visualization\n",
    "northeast = grouped_region_yr.loc[grouped_region_yr['Region'] == 'Northeast'].copy()\n",
    "midwest   = grouped_region_yr.loc[grouped_region_yr['Region'] == 'Midwest'].copy()\n",
    "south     = grouped_region_yr.loc[grouped_region_yr['Region'] == 'South'].copy()\n",
    "west      = grouped_region_yr.loc[grouped_region_yr['Region'] == 'West'].copy()"
   ]
  },
  {
   "cell_type": "code",
   "execution_count": null,
   "metadata": {},
   "outputs": [],
   "source": [
    "# Plotting the regional data\n",
    "plt.figure(figsize = (9, 9), dpi = 100)\n",
    "plt.axes(facecolor = 'lightgrey')\n",
    "\n",
    "## Northeast\n",
    "x = northeast['year']\n",
    "y = northeast['NO2 Mean']\n",
    "plt.plot(x, y, color = 'darkorange', linewidth = 3, label = 'Northeast')\n",
    "\n",
    "## West\n",
    "x1 = west['year']\n",
    "y1 = west['NO2 Mean']\n",
    "plt.plot(x1, y1, color = 'b', linewidth = 3, label = 'West')\n",
    "\n",
    "## Midwest\n",
    "x2 = midwest['year']\n",
    "y2 = midwest['NO2 Mean']\n",
    "plt.plot(x2, y2, color = 'teal', linewidth = 3, label = 'Midwest')\n",
    "\n",
    "## South\n",
    "x3 = south['year']\n",
    "y3 = south['NO2 Mean']\n",
    "plt.plot(x3, y3, color = 'crimson', linewidth = 3, label = 'South')\n",
    "\n",
    "# Adding Plot Details\n",
    "plt.title('Mean NO2 Level by Year')\n",
    "plt.xlabel('Year')\n",
    "plt.ylabel('NO2 Level (Parts per billion)')\n",
    "plt.xticks(ticks = x, rotation = 45)\n",
    "\n",
    "plt.legend();"
   ]
  },
  {
   "cell_type": "code",
   "execution_count": null,
   "metadata": {},
   "outputs": [],
   "source": [
    "# Box plot visualization\n",
    "plt.figure(figsize = (20, 10))\n",
    "plt.axes(facecolor = 'lightgrey')\n",
    "\n",
    "sns.boxplot(data = grouped_region_yr, x = 'Region', y = 'NO2 Mean',\n",
    "            palette = ['darkorange', 'b', 'teal', 'crimson']);\n",
    "\n",
    "sns.stripplot(data = grouped_region_yr, x = 'Region', y = 'NO2 Mean', color = 'white', jitter = .2, size = 10)\n",
    "\n",
    "plt.ylabel('NO2 Level (Parts per billion)')\n",
    "plt.title('Mean NO2 Level by Year', size = 20);"
   ]
  },
  {
   "cell_type": "code",
   "execution_count": null,
   "metadata": {},
   "outputs": [],
   "source": [
    "# One-way Anova test\n",
    "stats.f_oneway(northeast[\"NO2 Mean\"], midwest[\"NO2 Mean\"], south[\"NO2 Mean\"], west[\"NO2 Mean\"])"
   ]
  },
  {
   "cell_type": "code",
   "execution_count": null,
   "metadata": {},
   "outputs": [],
   "source": [
    "# collect NO2 mean from each region and drop the orginal index\n",
    "northeast_no2mean = northeast[\"NO2 Mean\"].reset_index(drop=True)\n",
    "midwest_no2mean   = midwest[\"NO2 Mean\"].reset_index(drop=True)\n",
    "south_no2mean     = south[\"NO2 Mean\"].reset_index(drop=True)\n",
    "west_no2mean      = west[\"NO2 Mean\"].reset_index(drop=True)"
   ]
  },
  {
   "cell_type": "code",
   "execution_count": null,
   "metadata": {},
   "outputs": [],
   "source": [
    "## check the assumptions for ANOVA (cite: https://reneshbedre.github.io/blog/anova.html)\n",
    "# Shapiro-Wilk test (null hypotheis --data is drawn from normal distribution) p<0.05 reject the null hypothesis\n",
    "\n",
    "# load packages\n",
    "w, pvalue = stats.shapiro(northeast_no2mean)\n",
    "print(w, pvalue)\n",
    "\n",
    "# Bartlett’s test (Null hypothesis: samples from populations have equal variances) p<0.05 reject the null hypothesis\n",
    "w, pvalue = stats.bartlett(northeast[\"NO2 Mean\"], midwest[\"NO2 Mean\"], south[\"NO2 Mean\"], west[\"NO2 Mean\"])\n",
    "print(w, pvalue)"
   ]
  },
  {
   "cell_type": "code",
   "execution_count": null,
   "metadata": {},
   "outputs": [],
   "source": [
    "# Comparing Northeast vs Midwes\n",
    "# Calculate Independent (Two Sample) T-Test\n",
    "statistic, pvalue = stats.ttest_ind(northeast[\"NO2 Mean\"], midwest[\"NO2 Mean\"], equal_var=False)\n",
    "\n",
    "print(statistic, pvalue)"
   ]
  },
  {
   "cell_type": "code",
   "execution_count": null,
   "metadata": {},
   "outputs": [],
   "source": [
    "# Calculate Independent (Two Sample) T-Test\n",
    "statistic, pvalue = stats.ttest_ind(northeast[\"NO2 Mean\"], south[\"NO2 Mean\"], equal_var=False)\n",
    "\n",
    "print(statistic, pvalue)"
   ]
  },
  {
   "cell_type": "code",
   "execution_count": null,
   "metadata": {},
   "outputs": [],
   "source": [
    "# Calculate Independent (Two Sample) T-Test\n",
    "statistic, pvalue = stats.ttest_ind(northeast[\"NO2 Mean\"], west[\"NO2 Mean\"], equal_var=False)\n",
    "\n",
    "print(statistic, pvalue)"
   ]
  },
  {
   "cell_type": "code",
   "execution_count": null,
   "metadata": {},
   "outputs": [],
   "source": [
    "# Calculate Independent (Two Sample) T-Test\n",
    "statistic, pvalue = stats.ttest_ind(midwest[\"NO2 Mean\"], south[\"NO2 Mean\"], equal_var=False)\n",
    "\n",
    "print(statistic, pvalue)"
   ]
  },
  {
   "cell_type": "code",
   "execution_count": null,
   "metadata": {},
   "outputs": [],
   "source": [
    "# Calculate Independent (Two Sample) T-Test\n",
    "statistic, pvalue = stats.ttest_ind(midwest[\"NO2 Mean\"], west[\"NO2 Mean\"], equal_var=False)\n",
    "\n",
    "print(statistic, pvalue)"
   ]
  },
  {
   "cell_type": "code",
   "execution_count": null,
   "metadata": {},
   "outputs": [],
   "source": [
    "# Calculate Independent (Two Sample) T-Test\n",
    "statistic, pvalue = stats.ttest_ind(south[\"NO2 Mean\"], west[\"NO2 Mean\"], equal_var=False)\n",
    "\n",
    "print(statistic, pvalue)"
   ]
  },
  {
   "cell_type": "code",
   "execution_count": null,
   "metadata": {},
   "outputs": [],
   "source": [
    "# # let's try monthly\n",
    "\n",
    "# data_no2['month'] = data_no2['Date Local'].str[5:7]\n",
    "\n",
    "# data_no2['yearmonth'] = data_no2['year'].astype(str) + data_no2['month'].astype(str)\n",
    "\n",
    "# data_no2.head()\n",
    "\n",
    "# # groupby region, year, month\n",
    "\n",
    "# gby_region_yrmo = data_no2.groupby(['Region', 'yearmonth']).mean()\n",
    "\n",
    "# gby_region_yrmo = gby_region_yrmo.reset_index( drop = False)\n",
    "\n",
    "# northeast = gby_region_yrmo.loc[gby_region_yrmo['Region'] == 'Northeast'].copy()\n",
    "# midwest = gby_region_yrmo.loc[gby_region_yrmo['Region'] == 'Midwest'].copy()\n",
    "# south = gby_region_yrmo.loc[gby_region_yrmo['Region'] == 'South'].copy()\n",
    "# west = gby_region_yrmo.loc[gby_region_yrmo['Region'] == 'West'].copy()\n",
    "\n",
    "# # west.plot(kind = 'line', x = 'year', y = 'NO2 Mean')\n",
    "# # northeast.plot(kind = 'line', x = 'year', y = 'NO2 Mean', color = 'darkorange')\n",
    "\n",
    "# plt.figure(figsize = (9, 9), dpi = 100)\n",
    "\n",
    "# x = west['yearmonth']\n",
    "# y = west['NO2 Mean']\n",
    "\n",
    "# plt.plot(x, y, color = 'b', label = 'West')\n",
    "\n",
    "# # x1 = northeast['yearmonth']\n",
    "# # y1 = northeast['NO2 Mean']\n",
    "\n",
    "# # plt.plot(x1, y1, color = 'darkorange', label = 'Northeast')\n",
    "\n",
    "# x2 = south['yearmonth']\n",
    "# y2 = south['NO2 Mean']\n",
    "\n",
    "# plt.plot(x2, y2, color = 'crimson', label = 'South')\n",
    "\n",
    "# # x3 = midwest['yearmonth']\n",
    "# # y3 = midwest['NO2 Mean']\n",
    "\n",
    "# # plt.plot(x3, y3, color = 'teal', label = 'Midwest')\n",
    "\n",
    "# plt.title('Mean NO2 Level by Month')\n",
    "# plt.xlabel('yearmonth')\n",
    "# plt.ylabel('NO2 Level (Parts per billion)')\n",
    "# plt.xticks(ticks = x)\n",
    "\n",
    "# plt.legend();\n",
    "# plt.show()"
   ]
  },
  {
   "cell_type": "code",
   "execution_count": null,
   "metadata": {},
   "outputs": [],
   "source": []
  }
 ],
 "metadata": {
  "kernelspec": {
   "display_name": "via2",
   "language": "python",
   "name": "via2"
  },
  "language_info": {
   "codemirror_mode": {
    "name": "ipython",
    "version": 3
   },
   "file_extension": ".py",
   "mimetype": "text/x-python",
   "name": "python",
   "nbconvert_exporter": "python",
   "pygments_lexer": "ipython3",
   "version": "3.7.3"
  }
 },
 "nbformat": 4,
 "nbformat_minor": 4
}
